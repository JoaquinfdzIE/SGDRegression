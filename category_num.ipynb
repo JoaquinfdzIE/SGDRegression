{
 "cells": [
  {
   "cell_type": "code",
   "execution_count": 1,
   "id": "22625de7-61af-4f06-8575-26ce3405c2ce",
   "metadata": {
    "tags": []
   },
   "outputs": [],
   "source": [
    "# Import libraries\n",
    "import pandas as pd\n",
    "import statsmodels.api as sm"
   ]
  },
  {
   "cell_type": "code",
   "execution_count": 3,
   "id": "0f84fe80-61cb-4fde-aa04-483c9396a575",
   "metadata": {
    "tags": []
   },
   "outputs": [],
   "source": [
    "# Read pickle file\n",
    "df = pd.read_pickle('final.pkl')"
   ]
  },
  {
   "cell_type": "code",
   "execution_count": 5,
   "id": "91b6ff7b-2309-4144-9ae0-970a384c2510",
   "metadata": {
    "tags": []
   },
   "outputs": [],
   "source": [
    "# Convert principal categories (category_code into category_main) into numerical values\n",
    "df['category_main'] = df['category_code'].str.split('.').str[0]\n",
    "\n",
    "categorie = {\n",
    "    'electronics': 1,\n",
    "    'auto': 2,\n",
    "    'appliances': 3,\n",
    "    'computers': 4,\n",
    "    'apparel': 5,\n",
    "    'furniture': 6,\n",
    "    'kids': 7,\n",
    "    'construction': 8,\n",
    "    'sport': 9,\n",
    "    'accessories': 10,\n",
    "    'country_yard': 11,\n",
    "    'medicine': 12,\n",
    "    'stationery': 13\n",
    "}\n",
    "\n",
    "df['category_num'] = df['category_main'].map(categorie)"
   ]
  },
  {
   "cell_type": "code",
   "execution_count": 7,
   "id": "748b12f5-5de1-416b-8b17-a7fb54417ef5",
   "metadata": {
    "tags": []
   },
   "outputs": [],
   "source": [
    "# Delete no needed variables\n",
    "df = df.drop('event_time', axis = 1)"
   ]
  },
  {
   "cell_type": "code",
   "execution_count": 8,
   "id": "e8632d8b-b82a-4bd1-aff1-c75d5df3d7ae",
   "metadata": {
    "tags": []
   },
   "outputs": [],
   "source": [
    "df = df.drop('category_code', axis = 1)"
   ]
  },
  {
   "cell_type": "code",
   "execution_count": 9,
   "id": "d2fa92f8-dc5e-4a63-b507-09de9e0dd098",
   "metadata": {
    "tags": []
   },
   "outputs": [],
   "source": [
    "df = df.drop('category_id', axis = 1)"
   ]
  },
  {
   "cell_type": "code",
   "execution_count": 13,
   "id": "f30a26d4-69bb-4137-b2da-d6ca050ddc6a",
   "metadata": {
    "tags": []
   },
   "outputs": [],
   "source": [
    "# Replace NaN num with 0 integer\n",
    "df['category_num'] = df['category_num'].fillna(0).astype(int)"
   ]
  },
  {
   "cell_type": "code",
   "execution_count": 17,
   "id": "098ab991-c2d6-4848-b948-823d9fad1068",
   "metadata": {
    "tags": []
   },
   "outputs": [],
   "source": [
    "X = df[['price','category_num']]\n",
    "y = df['purchase']"
   ]
  },
  {
   "cell_type": "code",
   "execution_count": 19,
   "id": "6761edea-7ef0-47db-a7ae-f4df7fb5e90a",
   "metadata": {
    "tags": []
   },
   "outputs": [],
   "source": [
    "X = sm.add_constant(X)"
   ]
  },
  {
   "cell_type": "code",
   "execution_count": 21,
   "id": "104c5fa8-a921-4b2d-b1b5-65972843e4d0",
   "metadata": {
    "tags": []
   },
   "outputs": [],
   "source": [
    "# Linear regression\n",
    "model = sm.OLS(y, X).fit()"
   ]
  },
  {
   "cell_type": "code",
   "execution_count": 29,
   "id": "13d7fff8-57cd-4119-9b7d-58b9c70c2483",
   "metadata": {
    "tags": []
   },
   "outputs": [
    {
     "data": {
      "text/html": [
       "<div>\n",
       "<style scoped>\n",
       "    .dataframe tbody tr th:only-of-type {\n",
       "        vertical-align: middle;\n",
       "    }\n",
       "\n",
       "    .dataframe tbody tr th {\n",
       "        vertical-align: top;\n",
       "    }\n",
       "\n",
       "    .dataframe thead th {\n",
       "        text-align: right;\n",
       "    }\n",
       "</style>\n",
       "<table border=\"1\" class=\"dataframe\">\n",
       "  <thead>\n",
       "    <tr style=\"text-align: right;\">\n",
       "      <th></th>\n",
       "      <th>product_id</th>\n",
       "      <th>brand</th>\n",
       "      <th>price</th>\n",
       "      <th>user_id</th>\n",
       "      <th>day</th>\n",
       "      <th>week</th>\n",
       "      <th>month</th>\n",
       "      <th>year</th>\n",
       "      <th>cart</th>\n",
       "      <th>purchase</th>\n",
       "      <th>view</th>\n",
       "      <th>category_num</th>\n",
       "    </tr>\n",
       "  </thead>\n",
       "  <tbody>\n",
       "    <tr>\n",
       "      <th>0</th>\n",
       "      <td>1801805</td>\n",
       "      <td>artel</td>\n",
       "      <td>231.60</td>\n",
       "      <td>536042235</td>\n",
       "      <td>0</td>\n",
       "      <td>3</td>\n",
       "      <td>10</td>\n",
       "      <td>1</td>\n",
       "      <td>0</td>\n",
       "      <td>0</td>\n",
       "      <td>1</td>\n",
       "      <td>1</td>\n",
       "    </tr>\n",
       "    <tr>\n",
       "      <th>1</th>\n",
       "      <td>1004870</td>\n",
       "      <td>samsung</td>\n",
       "      <td>284.02</td>\n",
       "      <td>517143806</td>\n",
       "      <td>0</td>\n",
       "      <td>3</td>\n",
       "      <td>10</td>\n",
       "      <td>1</td>\n",
       "      <td>1</td>\n",
       "      <td>0</td>\n",
       "      <td>0</td>\n",
       "      <td>1</td>\n",
       "    </tr>\n",
       "    <tr>\n",
       "      <th>2</th>\n",
       "      <td>5701087</td>\n",
       "      <td>jvc</td>\n",
       "      <td>51.48</td>\n",
       "      <td>556492770</td>\n",
       "      <td>3</td>\n",
       "      <td>0</td>\n",
       "      <td>10</td>\n",
       "      <td>1</td>\n",
       "      <td>0</td>\n",
       "      <td>0</td>\n",
       "      <td>1</td>\n",
       "      <td>2</td>\n",
       "    </tr>\n",
       "    <tr>\n",
       "      <th>3</th>\n",
       "      <td>1003317</td>\n",
       "      <td>apple</td>\n",
       "      <td>951.99</td>\n",
       "      <td>521082756</td>\n",
       "      <td>4</td>\n",
       "      <td>2</td>\n",
       "      <td>10</td>\n",
       "      <td>1</td>\n",
       "      <td>0</td>\n",
       "      <td>0</td>\n",
       "      <td>1</td>\n",
       "      <td>1</td>\n",
       "    </tr>\n",
       "    <tr>\n",
       "      <th>4</th>\n",
       "      <td>1005160</td>\n",
       "      <td>xiaomi</td>\n",
       "      <td>224.14</td>\n",
       "      <td>536962600</td>\n",
       "      <td>0</td>\n",
       "      <td>3</td>\n",
       "      <td>10</td>\n",
       "      <td>1</td>\n",
       "      <td>0</td>\n",
       "      <td>0</td>\n",
       "      <td>1</td>\n",
       "      <td>1</td>\n",
       "    </tr>\n",
       "    <tr>\n",
       "      <th>...</th>\n",
       "      <td>...</td>\n",
       "      <td>...</td>\n",
       "      <td>...</td>\n",
       "      <td>...</td>\n",
       "      <td>...</td>\n",
       "      <td>...</td>\n",
       "      <td>...</td>\n",
       "      <td>...</td>\n",
       "      <td>...</td>\n",
       "      <td>...</td>\n",
       "      <td>...</td>\n",
       "      <td>...</td>\n",
       "    </tr>\n",
       "    <tr>\n",
       "      <th>10443700</th>\n",
       "      <td>11000101</td>\n",
       "      <td>philips</td>\n",
       "      <td>46.31</td>\n",
       "      <td>547678064</td>\n",
       "      <td>3</td>\n",
       "      <td>2</td>\n",
       "      <td>4</td>\n",
       "      <td>2</td>\n",
       "      <td>0</td>\n",
       "      <td>0</td>\n",
       "      <td>1</td>\n",
       "      <td>3</td>\n",
       "    </tr>\n",
       "    <tr>\n",
       "      <th>10443701</th>\n",
       "      <td>1005004</td>\n",
       "      <td>huawei</td>\n",
       "      <td>214.65</td>\n",
       "      <td>574177317</td>\n",
       "      <td>1</td>\n",
       "      <td>1</td>\n",
       "      <td>4</td>\n",
       "      <td>2</td>\n",
       "      <td>0</td>\n",
       "      <td>0</td>\n",
       "      <td>1</td>\n",
       "      <td>8</td>\n",
       "    </tr>\n",
       "    <tr>\n",
       "      <th>10443702</th>\n",
       "      <td>16200137</td>\n",
       "      <td>pampers</td>\n",
       "      <td>10.98</td>\n",
       "      <td>586450742</td>\n",
       "      <td>4</td>\n",
       "      <td>2</td>\n",
       "      <td>4</td>\n",
       "      <td>2</td>\n",
       "      <td>0</td>\n",
       "      <td>0</td>\n",
       "      <td>1</td>\n",
       "      <td>10</td>\n",
       "    </tr>\n",
       "    <tr>\n",
       "      <th>10443703</th>\n",
       "      <td>1306895</td>\n",
       "      <td>hp</td>\n",
       "      <td>596.93</td>\n",
       "      <td>644915036</td>\n",
       "      <td>4</td>\n",
       "      <td>3</td>\n",
       "      <td>4</td>\n",
       "      <td>2</td>\n",
       "      <td>0</td>\n",
       "      <td>0</td>\n",
       "      <td>1</td>\n",
       "      <td>1</td>\n",
       "    </tr>\n",
       "    <tr>\n",
       "      <th>10443704</th>\n",
       "      <td>1005116</td>\n",
       "      <td>apple</td>\n",
       "      <td>1009.03</td>\n",
       "      <td>640901685</td>\n",
       "      <td>3</td>\n",
       "      <td>3</td>\n",
       "      <td>4</td>\n",
       "      <td>2</td>\n",
       "      <td>1</td>\n",
       "      <td>0</td>\n",
       "      <td>0</td>\n",
       "      <td>8</td>\n",
       "    </tr>\n",
       "  </tbody>\n",
       "</table>\n",
       "<p>55471380 rows × 12 columns</p>\n",
       "</div>"
      ],
      "text/plain": [
       "          product_id    brand    price    user_id  day  week  month  year  \\\n",
       "0            1801805    artel   231.60  536042235    0     3     10     1   \n",
       "1            1004870  samsung   284.02  517143806    0     3     10     1   \n",
       "2            5701087      jvc    51.48  556492770    3     0     10     1   \n",
       "3            1003317    apple   951.99  521082756    4     2     10     1   \n",
       "4            1005160   xiaomi   224.14  536962600    0     3     10     1   \n",
       "...              ...      ...      ...        ...  ...   ...    ...   ...   \n",
       "10443700    11000101  philips    46.31  547678064    3     2      4     2   \n",
       "10443701     1005004   huawei   214.65  574177317    1     1      4     2   \n",
       "10443702    16200137  pampers    10.98  586450742    4     2      4     2   \n",
       "10443703     1306895       hp   596.93  644915036    4     3      4     2   \n",
       "10443704     1005116    apple  1009.03  640901685    3     3      4     2   \n",
       "\n",
       "          cart  purchase  view  category_num  \n",
       "0            0         0     1             1  \n",
       "1            1         0     0             1  \n",
       "2            0         0     1             2  \n",
       "3            0         0     1             1  \n",
       "4            0         0     1             1  \n",
       "...        ...       ...   ...           ...  \n",
       "10443700     0         0     1             3  \n",
       "10443701     0         0     1             8  \n",
       "10443702     0         0     1            10  \n",
       "10443703     0         0     1             1  \n",
       "10443704     1         0     0             8  \n",
       "\n",
       "[55471380 rows x 12 columns]"
      ]
     },
     "execution_count": 29,
     "metadata": {},
     "output_type": "execute_result"
    }
   ],
   "source": [
    "df.head(-1)"
   ]
  },
  {
   "cell_type": "code",
   "execution_count": 25,
   "id": "72c1107c-2250-417c-8b90-f07004a3acc7",
   "metadata": {
    "tags": []
   },
   "outputs": [
    {
     "name": "stdout",
     "output_type": "stream",
     "text": [
      "                            OLS Regression Results                            \n",
      "==============================================================================\n",
      "Dep. Variable:               purchase   R-squared:                       0.001\n",
      "Model:                            OLS   Adj. R-squared:                  0.001\n",
      "Method:                 Least Squares   F-statistic:                 1.458e+04\n",
      "Date:                Mon, 17 Jun 2024   Prob (F-statistic):               0.00\n",
      "Time:                        13:50:24   Log-Likelihood:             3.3029e+07\n",
      "No. Observations:            55471381   AIC:                        -6.606e+07\n",
      "Df Residuals:                55471378   BIC:                        -6.606e+07\n",
      "Df Model:                           2                                         \n",
      "Covariance Type:            nonrobust                                         \n",
      "================================================================================\n",
      "                   coef    std err          t      P>|t|      [0.025      0.975]\n",
      "--------------------------------------------------------------------------------\n",
      "const            0.0127   3.72e-05    342.435      0.000       0.013       0.013\n",
      "price         2.267e-06   4.84e-08     46.831      0.000    2.17e-06    2.36e-06\n",
      "category_num     0.0010   6.11e-06    165.961      0.000       0.001       0.001\n",
      "==============================================================================\n",
      "Omnibus:                 69292019.924   Durbin-Watson:                   1.999\n",
      "Prob(Omnibus):                  0.000   Jarque-Bera (JB):       6284733298.579\n",
      "Skew:                           7.217   Prob(JB):                         0.00\n",
      "Kurtosis:                      53.108   Cond. No.                     1.02e+03\n",
      "==============================================================================\n",
      "\n",
      "Notes:\n",
      "[1] Standard Errors assume that the covariance matrix of the errors is correctly specified.\n",
      "[2] The condition number is large, 1.02e+03. This might indicate that there are\n",
      "strong multicollinearity or other numerical problems.\n"
     ]
    }
   ],
   "source": [
    "# See linear correlation between price and category num and the output purchase\n",
    "print(model.summary())"
   ]
  },
  {
   "cell_type": "code",
   "execution_count": 27,
   "id": "1a0bd6ea-4606-41bc-9145-fa41091fa449",
   "metadata": {},
   "outputs": [],
   "source": [
    "# Drop category_main beacause we already have category_num\n",
    "df = df.drop('category_main', axis = 1)"
   ]
  },
  {
   "cell_type": "code",
   "execution_count": 31,
   "id": "ade9d1df-6cd8-4b76-92e4-3d2580fb8daf",
   "metadata": {
    "tags": []
   },
   "outputs": [],
   "source": [
    "dff = df.to_pickle('forecasting_dataset.pkl')"
   ]
  }
 ],
 "metadata": {
  "kernelspec": {
   "display_name": "Python 3 (ipykernel)",
   "language": "python",
   "name": "python3"
  },
  "language_info": {
   "codemirror_mode": {
    "name": "ipython",
    "version": 3
   },
   "file_extension": ".py",
   "mimetype": "text/x-python",
   "name": "python",
   "nbconvert_exporter": "python",
   "pygments_lexer": "ipython3",
   "version": "3.11.5"
  }
 },
 "nbformat": 4,
 "nbformat_minor": 5
}
