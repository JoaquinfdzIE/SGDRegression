{
 "cells": [
  {
   "cell_type": "code",
   "execution_count": 11,
   "id": "6d3a2b1f-1914-473c-b658-69baf9b4739d",
   "metadata": {
    "tags": []
   },
   "outputs": [],
   "source": [
    "import pandas as pd"
   ]
  },
  {
   "cell_type": "code",
   "execution_count": null,
   "id": "f70372b1-3c92-4f0f-be26-763643f539e3",
   "metadata": {},
   "outputs": [],
   "source": [
    "df = pd.read_csv('20XX-X.pkl')"
   ]
  },
  {
   "cell_type": "code",
   "execution_count": 15,
   "id": "0f8a966b-d8da-4183-a26b-91086a41700d",
   "metadata": {},
   "outputs": [],
   "source": [
    "def clean_data(df):\n",
    "    df['event_time'] = pd.to_datetime(df['event_time'])\n",
    "    data = df.drop('user_session', axis = 1)\n",
    "    cleaned_data = data.dropna(subset=['category_code'])\n",
    "    cleaned_data2 = cleaned_data.dropna(subset=[\"brand\"])\n",
    "    cleaned_data3 = cleaned_data2.dropna(subset=[\"event_type\"])\n",
    "    cleaned_data4 = cleaned_data3.dropna(subset=[\"user_id\"])\n",
    "    cleaned_data5 = cleaned_data4.dropna(subset=[\"product_id\"])\n",
    "    cleaned_data6 = cleaned_data5.dropna(subset=[\"category_id\"])\n",
    "    cleaned_data7 = cleaned_data6.dropna(subset=[\"product_id\"])\n",
    "    cleaned_data8 = cleaned_data6.dropna(subset=[\"event_time\"])\n",
    "    cleaned_data9 = cleaned_data8.dropna(subset=[\"price\"])\n",
    "    return cleaned_data9"
   ]
  },
  {
   "cell_type": "code",
   "execution_count": 17,
   "id": "4b9763a4-c125-4b9c-9fb0-75128714f2f2",
   "metadata": {
    "tags": []
   },
   "outputs": [],
   "source": [
    "def filter_data(cleaned_data9):\n",
    "    final_data = cleaned_data9.sample(frac=0.2, random_state=42)\n",
    "    return final_data"
   ]
  },
  {
   "cell_type": "code",
   "execution_count": 29,
   "id": "0df5ab35-d02c-48d9-82fa-c8839950d544",
   "metadata": {
    "tags": []
   },
   "outputs": [
    {
     "ename": "NameError",
     "evalue": "name 'df' is not defined",
     "output_type": "error",
     "traceback": [
      "\u001b[0;31m---------------------------------------------------------------------------\u001b[0m",
      "\u001b[0;31mNameError\u001b[0m                                 Traceback (most recent call last)",
      "Cell \u001b[0;32mIn[29], line 1\u001b[0m\n\u001b[0;32m----> 1\u001b[0m data1 \u001b[38;5;241m=\u001b[39m filter_data(df)\n",
      "\u001b[0;31mNameError\u001b[0m: name 'df' is not defined"
     ]
    }
   ],
   "source": [
    "data1 = filter_data(df)"
   ]
  },
  {
   "cell_type": "code",
   "execution_count": null,
   "id": "fc1abc14-75c8-49a0-8d2f-5d2d67067e97",
   "metadata": {},
   "outputs": [],
   "source": [
    "data2 = clean_data(data1)"
   ]
  },
  {
   "cell_type": "code",
   "execution_count": null,
   "id": "6d6e8aa3-5fd2-4081-bc8f-6e83d64b4d1a",
   "metadata": {},
   "outputs": [],
   "source": [
    "data3 = data2.to_pickle('X_sample.pkl', index = False)"
   ]
  }
 ],
 "metadata": {
  "kernelspec": {
   "display_name": "Python 3 (ipykernel)",
   "language": "python",
   "name": "python3"
  },
  "language_info": {
   "codemirror_mode": {
    "name": "ipython",
    "version": 3
   },
   "file_extension": ".py",
   "mimetype": "text/x-python",
   "name": "python",
   "nbconvert_exporter": "python",
   "pygments_lexer": "ipython3",
   "version": "3.11.5"
  }
 },
 "nbformat": 4,
 "nbformat_minor": 5
}
