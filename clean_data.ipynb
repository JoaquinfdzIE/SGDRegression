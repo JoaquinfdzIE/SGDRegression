{
 "cells": [
  {
   "cell_type": "code",
   "execution_count": 4,
   "id": "6d3a2b1f-1914-473c-b658-69baf9b4739d",
   "metadata": {
    "tags": []
   },
   "outputs": [],
   "source": [
    "# Import library\n",
    "import pandas as pd"
   ]
  },
  {
   "cell_type": "code",
   "execution_count": 8,
   "id": "f70372b1-3c92-4f0f-be26-763643f539e3",
   "metadata": {},
   "outputs": [],
   "source": [
    "# Read CSV files (6 in total)\n",
    "df = pd.read_csv('ecomm-multi-2019-oct-SMALL.csv')"
   ]
  },
  {
   "cell_type": "code",
   "execution_count": 10,
   "id": "0f8a966b-d8da-4183-a26b-91086a41700d",
   "metadata": {},
   "outputs": [],
   "source": [
    "# Create functions to clean and sample\n",
    "def clean_data(df):\n",
    "    df['event_time'] = pd.to_datetime(df['event_time'])\n",
    "    data = df.drop('user_session', axis = 1)\n",
    "    cleaned_data = data.dropna(subset=['category_code'])\n",
    "    cleaned_data2 = cleaned_data.dropna(subset=[\"brand\"])\n",
    "    cleaned_data3 = cleaned_data2.dropna(subset=[\"event_type\"])\n",
    "    cleaned_data4 = cleaned_data3.dropna(subset=[\"user_id\"])\n",
    "    cleaned_data5 = cleaned_data4.dropna(subset=[\"product_id\"])\n",
    "    cleaned_data6 = cleaned_data5.dropna(subset=[\"category_id\"])\n",
    "    cleaned_data7 = cleaned_data6.dropna(subset=[\"product_id\"])\n",
    "    cleaned_data8 = cleaned_data6.dropna(subset=[\"event_time\"])\n",
    "    cleaned_data9 = cleaned_data8.dropna(subset=[\"price\"])\n",
    "    return cleaned_data9"
   ]
  },
  {
   "cell_type": "code",
   "execution_count": 12,
   "id": "4b9763a4-c125-4b9c-9fb0-75128714f2f2",
   "metadata": {
    "tags": []
   },
   "outputs": [],
   "source": [
    "def filter_data(cleaned_data9):\n",
    "    final_data = cleaned_data9.sample(frac=0.2, random_state=42)\n",
    "    return final_data"
   ]
  },
  {
   "cell_type": "code",
   "execution_count": 14,
   "id": "0df5ab35-d02c-48d9-82fa-c8839950d544",
   "metadata": {
    "tags": []
   },
   "outputs": [],
   "source": [
    "data1 = filter_data(df)"
   ]
  },
  {
   "cell_type": "code",
   "execution_count": 16,
   "id": "fc1abc14-75c8-49a0-8d2f-5d2d67067e97",
   "metadata": {},
   "outputs": [],
   "source": [
    "data2 = clean_data(data1)"
   ]
  },
  {
   "cell_type": "code",
   "execution_count": 20,
   "id": "6d6e8aa3-5fd2-4081-bc8f-6e83d64b4d1a",
   "metadata": {},
   "outputs": [],
   "source": [
    "# Export CSV into pickle file to conservate the metadata\n",
    "data3 = data2.to_pickle('X_sample.pkl')"
   ]
  }
 ],
 "metadata": {
  "kernelspec": {
   "display_name": "Python 3 (ipykernel)",
   "language": "python",
   "name": "python3"
  },
  "language_info": {
   "codemirror_mode": {
    "name": "ipython",
    "version": 3
   },
   "file_extension": ".py",
   "mimetype": "text/x-python",
   "name": "python",
   "nbconvert_exporter": "python",
   "pygments_lexer": "ipython3",
   "version": "3.11.5"
  }
 },
 "nbformat": 4,
 "nbformat_minor": 5
}
